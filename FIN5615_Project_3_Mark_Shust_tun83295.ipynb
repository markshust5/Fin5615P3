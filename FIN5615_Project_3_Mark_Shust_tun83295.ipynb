{
 "cells": [
  {
   "cell_type": "markdown",
   "metadata": {
    "deletable": false,
    "editable": false
   },
   "source": [
    "<h2>FIN5615 Project #3\n",
    "    <p class=\"text-primary\">Black Scholes Options Pricing</p>\n",
    "</h2>\n",
    "\n",
    "<div class = \"alert alert-block alert-danger\">\n",
    "    <b>Due Date</b>: October 19th 2020, 11:59PM EST \n",
    "</div>"
   ]
  },
  {
   "cell_type": "markdown",
   "metadata": {
    "deletable": false,
    "editable": false
   },
   "source": [
    "<div class = \"panel panel-success\">\n",
    "    <div class = \"panel-heading\"> \n",
    "    <span style=\"color:black\"><b>Project Introduction</b>\n",
    "    </div>\n",
    "    <div class = \"panel-body\"> \n",
    "    The goal of this project is to build an options pricing calculator using the Black-Scholes pricing model. Our calculator will be able to price both put and call options as well as the following set of Greeks: delta, gamma, theta, vega, and rho. \n",
    "    </div>\n",
    "</div>\n",
    "\n",
    "<div class = \"panel panel-info\">\n",
    "    <div class = \"panel-heading\"> \n",
    "    <span style=\"color:black\"><b>Instructions</b>\n",
    "    </div>\n",
    "    <div class = \"panel-body\"> \n",
    "    Please code you solutions directly in this Notebook under each task in the cells provided below. Include all code used to produce your results, and support your answers with textual explanations if neccessary. You may feel free to add additional Code and/or Markdown cells as needed. Code must be written using <b>Python 3</b>.\n",
    "    <br><br>Please order the cells in your Notebook in the order in which they are intended to run! It is expected that your Notebook is able to run in sequence from start to finish without any errors (before submitting check by: <code>Kernel > Restart & Run All</code>).\n",
    "    <br><br>Once ready, please submit your assignment as an <b>.ipynb file</b> (<code>File > Download as > Notebook</code>). You must name your files in the following format: <b><code>FIN5615_Assignmnet_1_Richard_Lee_tuc12345.ipynb</code></b>.\n",
    "    </div>\n",
    "</div>\n",
    "\n",
    "---\n",
    "<div class = \"alert alert-block alert-warning\">\n",
    "    <b>Note</b>: Import all libraries that you plan on using in the code block below.\n",
    "</div>"
   ]
  },
  {
   "cell_type": "code",
   "execution_count": 1,
   "metadata": {},
   "outputs": [],
   "source": [
    "import numpy as np\n",
    "import random\n",
    "import matplotlib.pyplot as plt\n",
    "import math\n",
    "import scipy.stats\n",
    "from scipy.stats import norm"
   ]
  },
  {
   "cell_type": "markdown",
   "metadata": {
    "deletable": false,
    "editable": false
   },
   "source": [
    "<div class = \"panel panel-primary\">\n",
    "    <div class = \"panel-heading\"> \n",
    "    <span style=\"color:white\"><b>Task 1</b>\n",
    "    </div>\n",
    "    <div class = \"panel-body\">\n",
    "    Recall that the Black-Scholes formula for the price of a call option is: \n",
    "    <br><br>\n",
    "    $$Call = S_0N(d_1) - Ke^{-rT}N(d_2)$$\n",
    "    <br>$$d_1 = \\frac{1}{\\sigma\\sqrt{T}}\\left[\\ln\\left(\\frac{S_0}{K}\\right) + \\left(r + \\frac{1}{2}\\sigma^2\\right)T\\right]$$\n",
    "    <br>$$d_2 = d_1 - \\sigma\\sqrt{T}$$\n",
    "    <br>Write an expression that can calculate the price of a call option using the Black-Scholes formula, given the follwowing variables:\n",
    "    <ul>\n",
    "        <li><code>stock_price</code> = price of underlying stock at time t</li>\n",
    "        <li><code>strike</code> = strike price of the options contract</li>\n",
    "        <li><code>term</code> = remaining time in years left on the option contract</li>\n",
    "        <li><code>rf</code> = annual risk-free rate</li>\n",
    "        <li><code>volatility</code> = annualized volatility of the underlying stock</li>\n",
    "    </ul>\n",
    "    <p style=\"text-align:right;\">[5pts]</p>\n",
    "    </div>\n",
    "</div>\n",
    "<div class = \"alert alert-block alert-info\">\n",
    "    <b>Hint</b>: https://docs.scipy.org/doc/scipy/reference/generated/scipy.stats.norm.html\n",
    "</div>"
   ]
  },
  {
   "cell_type": "code",
   "execution_count": 2,
   "metadata": {},
   "outputs": [
    {
     "name": "stdout",
     "output_type": "stream",
     "text": [
      "0.34160940194863176\n"
     ]
    }
   ],
   "source": [
    "stock_price = 30\n",
    "strike = 35     \n",
    "term = 0.5\n",
    "rf = .01\n",
    "volatility = .2\n",
    "\n",
    "volT= volatility * (term**.5)\n",
    "d1 = ((np.log(stock_price/strike)+(rf+((volatility**2)/2)*term)))/volT\n",
    "d2= d1 - volT\n",
    "\n",
    "call = stock_price * norm.cdf(d1) - strike * np.exp(-rf * term) * norm.cdf(d2)\n",
    "print(call)"
   ]
  },
  {
   "cell_type": "markdown",
   "metadata": {
    "deletable": false,
    "editable": false
   },
   "source": [
    "<div class = \"panel panel-primary\">\n",
    "    <div class = \"panel-heading\"> \n",
    "    <span style=\"color:white\"><b>Task 2</b>\n",
    "    </div>\n",
    "    <div class = \"panel-body\"> \n",
    "    Write a function called <code>black_sholes_formula</code> that takes in <code>stock_price</code>, <code>strike</code>, <code>term</code>, <code>rf</code>, and <code>volatility</code> as input parameters, and outputs the price of a call option according to the Black-Scholes pricing model.\n",
    "    <br><br>Double check that the function outputs the same price as the previous task under the following values:\n",
    "    <ul>\n",
    "        <li><code>stock_price</code> = \\$30</li>\n",
    "        <li><code>strike</code> = \\$35</li>\n",
    "        <li><code>term</code> = 6 months</li>\n",
    "        <li><code>rf</code> = 1%</li>\n",
    "        <li><code>volatility</code> = 0.2</li>\n",
    "    </ul>\n",
    "    <p style=\"text-align:right;\">[5pts]</p>\n",
    "    </div>\n",
    "</div>"
   ]
  },
  {
   "cell_type": "code",
   "execution_count": 3,
   "metadata": {},
   "outputs": [],
   "source": [
    "def black_sholes_formula(stock_price, strike, term, rf, volatility):\n",
    "    \n",
    "    volT= volatility * (term**.5)\n",
    "    d1 = ((np.log(stock_price/strike)+(rf+((volatility**2)/2)*term)))/volT\n",
    "    d2= d1 - volT\n",
    "    call = stock_price * norm.cdf(d1) - strike * np.exp(-rf * term) * norm.cdf(d2)\n",
    "    return call\n",
    "\n"
   ]
  },
  {
   "cell_type": "code",
   "execution_count": 4,
   "metadata": {},
   "outputs": [
    {
     "data": {
      "text/plain": [
       "0.34160940194863176"
      ]
     },
     "execution_count": 4,
     "metadata": {},
     "output_type": "execute_result"
    }
   ],
   "source": [
    "black_sholes_formula(30, 35, .5, .01, .2)"
   ]
  },
  {
   "cell_type": "markdown",
   "metadata": {
    "deletable": false,
    "editable": false
   },
   "source": [
    "<div class = \"panel panel-primary\">\n",
    "    <div class = \"panel-heading\"> \n",
    "    <span style=\"color:white\"><b>Task 3</b>\n",
    "    </div>\n",
    "    <div class = \"panel-body\">\n",
    "    Recall that the Black-Scholes formula for the price of a put option is:\n",
    "    <br><br>\n",
    "    $$Put = Ke^{-rT}N(-d_2) - S_0N(-d_1)$$\n",
    "    <br>Modify the function <code>black_sholes_formula</code> by adding an extra input parameter <code>option</code> that can take on either the value <code>'call'</code> or <code>'put'</code>. Depending on the value assigned to the parameter <code>option</code>, <code>black_sholes_formula</code> will output either the price of a call or a put option.\n",
    "    <br><br>Use the updated <code>black_sholes_formula</code> function to calculate the price of both a <b>call</b> and <b>put</b> option using the following input values:\n",
    "    <ul>\n",
    "        <li><code>stock_price</code> = \\$30</li>\n",
    "        <li><code>strike</code> = \\$35</li>\n",
    "        <li><code>term</code> = 6 months</li>\n",
    "        <li><code>rf</code> = 1%</li>\n",
    "        <li><code>volatility</code> = 0.2</li>\n",
    "    </ul>\n",
    "    <p style=\"text-align:right;\">[5pts]</p>\n",
    "    </div>\n",
    "</div>"
   ]
  },
  {
   "cell_type": "code",
   "execution_count": 5,
   "metadata": {},
   "outputs": [],
   "source": [
    "def black_sholes_formula(stock_price, strike, term, rf, volatility, option):\n",
    "    \n",
    "    volT= volatility * (term**.5)\n",
    "    d1 = ((np.log(stock_price/strike)+(rf+((volatility**2)/2)*term)))/volT\n",
    "    d2= d1 - volT\n",
    "    \n",
    "    if option == \"call\":\n",
    "        call = stock_price * norm.cdf(d1) - strike * np.exp(-rf * term) * norm.cdf(d2)\n",
    "        return call\n",
    "    \n",
    "    else:\n",
    "        put = ((strike * np.exp(-rf * term)) * norm.cdf(-d2)) - (stock_price * norm.cdf(-d1))\n",
    "        \n",
    "        return put\n",
    "\n",
    "   \n",
    "        "
   ]
  },
  {
   "cell_type": "code",
   "execution_count": 6,
   "metadata": {},
   "outputs": [
    {
     "data": {
      "text/plain": [
       "0.34160940194863176"
      ]
     },
     "execution_count": 6,
     "metadata": {},
     "output_type": "execute_result"
    }
   ],
   "source": [
    "black_sholes_formula(30, 35, .5, .01, .2,\"call\")"
   ]
  },
  {
   "cell_type": "markdown",
   "metadata": {
    "deletable": false,
    "editable": false
   },
   "source": [
    "<div class = \"panel panel-primary\">\n",
    "    <div class = \"panel-heading\"> \n",
    "    <span style=\"color:white\"><b>Task 4</b>\n",
    "    </div>\n",
    "    <div class = \"panel-body\"> \n",
    "    Recall that the payoff of a call option is $\\max(S_T - K, 0)$.\n",
    "    <ul>\n",
    "        <li>Price the value of the call option with \\$35 strike, 6 months to termination, at 0.2 volatility and 1% risk-free rate, when stock price ranges from \\$10 to \\$60 (use \\$0.50 increments).</li>\n",
    "        <li>Also calculate the option's payoff assuming the same range of stock price at termination.</li>\n",
    "        <li>Plot the ranges of call option prices and payoffs in a single line plot. Provide a legend, x-axis label, and title for the plot.</li>\n",
    "    </ul>\n",
    "    <p style=\"text-align:right;\">[10pts]</p>\n",
    "    </div>\n",
    "</div>"
   ]
  },
  {
   "cell_type": "code",
   "execution_count": 7,
   "metadata": {},
   "outputs": [
    {
     "data": {
      "image/png": "[encoded data removed]",
      "text/plain": [
       "<Figure size 432x288 with 1 Axes>"
      ]
     },
     "metadata": {
      "needs_background": "light"
     },
     "output_type": "display_data"
    }
   ],
   "source": [
    "def call_payoff(stock, strike):\n",
    "    payoff = max(stock-strike,0.)\n",
    "    return payoff\n",
    "\n",
    "stock_prices = np.arange(10, 60.5, .5)\n",
    "\n",
    "payoffs = [call_payoff(stock = price, strike = 35) for price in stock_prices]\n",
    "\n",
    "plt.plot(stock_prices, payoffs)\n",
    "plt.show()"
   ]
  },
  {
   "cell_type": "code",
   "execution_count": 8,
   "metadata": {
    "scrolled": true
   },
   "outputs": [
    {
     "data": {
      "image/png": "[encoded data removed]",
      "text/plain": [
       "<Figure size 432x288 with 1 Axes>"
      ]
     },
     "metadata": {
      "needs_background": "light"
     },
     "output_type": "display_data"
    }
   ],
   "source": [
    "def call_price(stock, strike, term, rf, vol):\n",
    "    \n",
    "    volT= vol * (term**.5)\n",
    "    d1 = ((np.log(stock/strike)+(rf+((vol**2)/2)*term)))/volT\n",
    "    d2= d1 - volT\n",
    "    \n",
    "    call = stock * norm.cdf(d1) - strike * np.exp(-rf * term) * norm.cdf(d2)\n",
    "    \n",
    "    return call\n",
    "\n",
    "stock_prices = np.arange(10, 60.5, .5)\n",
    "\n",
    "prices = [call_price(stock = price, strike = 35, term = .5, rf = .01, vol = .2) for price in stock_prices]\n",
    "\n",
    "plt.plot(stock_prices, prices)\n",
    "plt.show()"
   ]
  },
  {
   "cell_type": "markdown",
   "metadata": {
    "deletable": false,
    "editable": false
   },
   "source": [
    "<div class = \"panel panel-primary\">\n",
    "    <div class = \"panel-heading\"> \n",
    "    <span style=\"color:white\"><b>Task 5</b>\n",
    "    </div>\n",
    "    <div class = \"panel-body\"> \n",
    "    Recall that given a continuous annual dividend rate $q$:\n",
    "    <br><br>\n",
    "    $$Call = S_0e^{-qT}N(d_1) - Ke^{-rT}N(d_2)$$\n",
    "    <br>$$Put = Ke^{-rT}N(-d_2) - S_te^{-qT}N(-d_1)$$\n",
    "    <br>$$d_1 = \\frac{1}{\\sigma\\sqrt{T}}\\left[\\ln\\left(\\frac{S_0}{K}\\right) + \\left(r - q + \\frac{1}{2}\\sigma^2\\right)T\\right]$$\n",
    "    <br>$$d_2 = d_1 - \\sigma\\sqrt{T}$$\n",
    "    <ul>\n",
    "        <li>Add an additional input parameter <code>dividend</code>, to the function <code>black_sholes_formula</code>, representing the continuous rate of dividend paid to shareholders by the stock, with a default value to equal to 0. Modify the Black-Scholes pricing formula to account for the dividend rate.</li>\n",
    "        <li>Calculate the price of a call option where the stock price is \\$30, strike is \\$35, term is 6 months, volatility is 20%, that also pays a 2.5% annual dividend, using a risk-free rate of 1%.</li>\n",
    "        <li>How does adding a dividend rate influence the price of a call option and why?</li>\n",
    "    </ul>\n",
    "    <p style=\"text-align:right;\">[10pts]</p>\n",
    "    </div>\n",
    "</div>"
   ]
  },
  {
   "cell_type": "code",
   "execution_count": 9,
   "metadata": {},
   "outputs": [],
   "source": [
    "def black_sholes_formula_div(stock_price, strike, term, rf, volatility,div= 0 ):\n",
    "    \n",
    "    volT= volatility * (term**.5)\n",
    "    d1 = ((np.log(stock_price/strike)+((rf-div)+((volatility**2)/2)*term)))/volT\n",
    "    d2= d1 - volT\n",
    "    \n",
    "    call = (stock_price*np.exp(-div*term) * norm.cdf(d1)) - strike * np.exp(-rf * term) * norm.cdf(d2)\n",
    "    \n",
    "    return call\n",
    "\n"
   ]
  },
  {
   "cell_type": "code",
   "execution_count": 10,
   "metadata": {},
   "outputs": [
    {
     "data": {
      "text/plain": [
       "0.2843467535380695"
      ]
     },
     "execution_count": 10,
     "metadata": {},
     "output_type": "execute_result"
    }
   ],
   "source": [
    "black_sholes_formula_div(30, 35, .5, .01, .2,.025)"
   ]
  },
  {
   "cell_type": "markdown",
   "metadata": {},
   "source": [
    "THe dividend rate lowers the future price, this happens becasue if the dividend is paid on that date the price will drop by the ammount of the divident, we account for this by taking the present  valueof the dividen and taking that out of or future stock price\n",
    "\n",
    "\n",
    "\n",
    "\n",
    "\n"
   ]
  },
  {
   "cell_type": "markdown",
   "metadata": {
    "deletable": false,
    "editable": false
   },
   "source": [
    "<div class = \"panel panel-primary\">\n",
    "    <div class = \"panel-heading\"> \n",
    "    <span style=\"color:white\"><b>Task 6</b>\n",
    "    </div>\n",
    "    <div class = \"panel-body\">\n",
    "    Write a function called <code>black_scholes_greeks</code> that takes in the same input parameters as <code>black_scholes_formula</code>, and calculates the option's greeks (delta, gamma, vega, theta, and rho) according to the below table :\n",
    "    ![image.png](attachment:image.png)\n",
    "    <br><br>Note that $N^{\\prime}(x)$ is simply the pdf of the normal distribution.\n",
    "    <br><br>The output should be returned in the form of dictionary with the following keys: <code>delta</code>, <code>gamma</code>, <code>vega</code>, <code>theta</code>, <code>rho</code>, each storing the corresponding greek value for the option. Run <code>black_scholes_greeks</code> on a call option where:\n",
    "    <ul>\n",
    "        <li><code>stock_price</code> = \\$30</li>\n",
    "        <li><code>strike</code> = \\$35</li>\n",
    "        <li><code>term</code> = 6 months</li>\n",
    "        <li><code>rf</code> = 1%</li>\n",
    "        <li><code>volatility</code> = 0.2</li>\n",
    "        <li><code>dividend</code> = 2.5%</li>\n",
    "    </ul>\n",
    "    <p style=\"text-align:right;\">[15pts]</p>\n",
    "    </div>\n",
    "</div>"
   ]
  },
  {
   "cell_type": "code",
   "execution_count": 11,
   "metadata": {},
   "outputs": [],
   "source": [
    "def black_scholes_greeks(stock_price, strike, term, rf, volatility,div=0,Greeks = True):\n",
    "    \n",
    "    volT= volatility * (term**.5)\n",
    "    d1 = ((np.log(stock_price/strike)+((rf-div)+((volatility**2)/2)*term)))/volT\n",
    "    d2= d1 - volT\n",
    "    \n",
    "    call = (stock_price*np.exp(-div*term) * norm.cdf(d1)) - strike * np.exp(-rf * term) * norm.cdf(d2)\n",
    "    \n",
    "    Delta = norm.cdf(d1)\n",
    "    Gamma = norm.pdf(d1)/(stock_price*volatility*np.sqrt(term))\n",
    "    Theta = (-(stock_price*norm.pdf(d1)*volatility)/(2*np.sqrt(term)-rf*strike*np.exp(-rf*term)*norm.pdf(d2)))/365\n",
    "    Vega=(stock_price*norm.pdf(d1)*(term**.5))/100\n",
    "    Rho = (strike*term*np.exp(-rf*term)*norm.cdf(d2))/100\n",
    "    \n",
    "    Greeks={\"Delta\":Delta,\"Gamma\":Gamma,\"Vega\":Vega,\"Theta\":Theta,\"Rho\":Rho}\n",
    "    \n",
    "    return call , Greeks\n",
    "    \n",
    "    "
   ]
  },
  {
   "cell_type": "code",
   "execution_count": 12,
   "metadata": {},
   "outputs": [
    {
     "data": {
      "text/plain": [
       "(0.2843467535380695,\n",
       " {'Delta': 0.13021714522597966,\n",
       "  'Gamma': 0.049919284678044976,\n",
       "  'Vega': 0.04492735621024048,\n",
       "  'Theta': -0.0025751779469082347,\n",
       "  'Rho': 0.017868200512639452})"
      ]
     },
     "execution_count": 12,
     "metadata": {},
     "output_type": "execute_result"
    }
   ],
   "source": [
    "black_scholes_greeks(30,35,.5,.01,.2,.025)"
   ]
  },
  {
   "cell_type": "markdown",
   "metadata": {
    "deletable": false,
    "editable": false
   },
   "source": [
    "<div class = \"panel panel-primary\">\n",
    "    <div class = \"panel-heading\"> \n",
    "    <span style=\"color:white\"><b>Task 7</b>\n",
    "    </div>\n",
    "    <div class = \"panel-body\"> \n",
    "    Modify the function <code>black_scholes_formula</code> to take in a <b>boolean</b> input parameter called <code>greeks</code> that can be either <code>True</code> or <code>False</code>, a default value of <code>False</code>.\n",
    "    <br><br>If <code>greeks</code> is <code>True</code>, then in addition to producing the price of a call / put option, <code>black_scholes_formula</code> will also calculate the greeks of the option using the function <code>black_scholes_greeks</code>, and return the delta, gamma, vega, theta, and rho as a dictionary, in addition to the price of the option.\n",
    "    <br><br>If <code>greeks</code> is <code>False</code>, then simply return the price of the option just like before. Run <code>black_scholes_formula</code> to price of a call option where:\n",
    "    <ul>\n",
    "        <li><code>stock_price</code> = \\$30</li>\n",
    "        <li><code>strike</code> = \\$35</li>\n",
    "        <li><code>term</code> = 6 months</li>\n",
    "        <li><code>rf</code> = 1%</li>\n",
    "        <li><code>volatility</code> = 0.2</li>\n",
    "        <li><code>dividend</code> = 2.5%</li>\n",
    "        <li><code>greeks</code> = True</li>\n",
    "    </ul>\n",
    "    <p style=\"text-align:right;\">[10pts]</p>\n",
    "    </div>\n",
    "</div>"
   ]
  },
  {
   "cell_type": "code",
   "execution_count": 13,
   "metadata": {},
   "outputs": [],
   "source": [
    "def black_sholes_formula(stock_price, strike, term, rf, volatility, optionType=\"call\",div = \"0\",Greeks= True):\n",
    "    \n",
    "    volT= volatility * (term**.5)\n",
    "    d1 = ((np.log(stock_price/strike)+(rf+((volatility**2)/2)*term)))/volT\n",
    "    d2= d1 - volT\n",
    "    \n",
    "    if optionType == \"call\" and Greeks == True:\n",
    "        call = (stock_price*np.exp(-div*term) * norm.cdf(d1)) - strike * np.exp(-rf * term) * norm.cdf(d2)\n",
    "    \n",
    "        Delta = norm.cdf(d1)\n",
    "        Gamma = norm.pdf(d1)/(stock_price*volatility*np.sqrt(term))\n",
    "        Theta = (-(stock_price*norm.pdf(d1)*volatility)/(2*np.sqrt(term)-rf*strike*np.exp(-rf*term)*norm.pdf(d2)))/365\n",
    "        Vega=(stock_price*norm.pdf(d1)*(term**.5))/100\n",
    "        Rho = (strike*term*np.exp(-rf*term)*norm.cdf(d2))/100\n",
    "    \n",
    "        Greeks={\"Delta\":Delta,\"Gamma\":Gamma,\"Vega\":Vega,\"Theta\":Theta,\"Rho\":Rho}\n",
    "        return call,Greeks\n",
    "    \n",
    "    elif optionType == \"call\" and Greeks == False:\n",
    "        call = (stock_price*np.exp(-div*term) * norm.cdf(d1)) - strike * np.exp(-rf * term) * norm.cdf(d2)\n",
    "        return call\n",
    "    \n",
    "    elif optionType == \"put\" and Greeks == True:\n",
    "        put = ((strike * np.exp(-rf * term)) * norm.cdf(-d2)) - (stock_price *np.exp(-div*term)* norm.cdf(-d1))\n",
    "        Delta = norm.cdf(-d1)\n",
    "        Gamma = norm.pdf(d1)/(stock_price*volatility*np.sqrt(term))\n",
    "        Theta = (-(stock_price*norm.pdf(d1)*volatility)/(2*np.sqrt(term)-rf*strike*np.exp(-rf*term)*norm.pdf(-d2)))/365\n",
    "        Vega=(stock_price*norm.pdf(d1)*(term**.5))/100\n",
    "        Rho = (strike*term*np.exp(-rf*term)*norm.cdf(-d2))/100\n",
    "        Greeks={\"Delta\":Delta,\"Gamma\":Gamma,\"Vega\":Vega,\"Theta\":Theta,\"Rho\":Rho}\n",
    "        return put , Greeks\n",
    "        \n",
    "    else:\n",
    "        put = ((strike * np.exp(-rf * term)) * norm.cdf(-d2)) - (stock_price *np.exp(-div*term)* norm.cdf(-d1))\n",
    "        return put\n",
    "    "
   ]
  },
  {
   "cell_type": "code",
   "execution_count": 14,
   "metadata": {},
   "outputs": [
    {
     "data": {
      "text/plain": [
       "(0.3446027960718845,\n",
       " {'Delta': 0.10908080447646545,\n",
       "  'Gamma': 0.037760693416560506,\n",
       "  'Vega': 0.04625684943528662,\n",
       "  'Theta': -0.002658198094814456,\n",
       "  'Rho': 0.020575025648529328})"
      ]
     },
     "execution_count": 14,
     "metadata": {},
     "output_type": "execute_result"
    }
   ],
   "source": [
    "black_sholes_formula(35, 30, .5,.01, .2,\"put\",.025,True)"
   ]
  },
  {
   "cell_type": "markdown",
   "metadata": {
    "deletable": false,
    "editable": false
   },
   "source": [
    "<div class = \"panel panel-primary\">\n",
    "    <div class = \"panel-heading\"> \n",
    "    <span style=\"color:white\"><b>Task 8</b>\n",
    "    </div>\n",
    "    <div class = \"panel-body\"> \n",
    "    One of the assumptions to the Black-Scholes pricing model is that the risk-free interest rate is constant. However in practice, interest rates should follow a term structure, such as the spot curve.\n",
    "    <br><br>Assume that the spot curve follows the below formula:\n",
    "    <br><br>\n",
    "    $$r(t) = \\beta_0 + \\beta_1\\left(\\frac{1 - e^{-\\alpha t}}{\\alpha t}\\right) + \\beta_2\\left(\\frac{1 - e^{-\\alpha t}}{\\alpha t} - e^{-\\alpha t}\\right)$$\n",
    "    <br>Note that resulting $r(t)$ is expressed as a percentage. Set the parameters equal to the following values:\n",
    "    <ul>\n",
    "        <li>$\\alpha = .7143$</li>\n",
    "        <li>$\\beta_0 = 2.99$</li>\n",
    "        <li>$\\beta_1 = -2.70$</li>\n",
    "        <li>$\\beta_2 = -2.12$</li>\n",
    "    </ul>\n",
    "    <br>Next:\n",
    "    <ul>\n",
    "        <li>Write a function that takes in <code>term</code> as an input parameter, then calculates and returns the spot rate according to the formula above.</li>\n",
    "        <li>Plot the spot curve for terms ranging from 1 quarter to 30 years in quarterly increments on a line plot. Provide axis labels and a title for the plot.</li>\n",
    "        <li>Comment on the shape and reasonableness of this calculated spot curve. </li>\n",
    "    </ul>\n",
    "    <p style=\"text-align:right;\">[10pts]</p>\n",
    "    </div>\n",
    "</div>"
   ]
  },
  {
   "cell_type": "code",
   "execution_count": 15,
   "metadata": {},
   "outputs": [],
   "source": [
    "def rate(term):\n",
    "    alpha=.7143\n",
    "    beta0=2.99\n",
    "    beta1=-2.70\n",
    "    beta2=-2.12\n",
    "    #this is alpha times Term     I wanted to thin the forumla\n",
    "    AxT= alpha * term\n",
    "    #THIS is for e to the negative alpha term\n",
    "    EAT=np.exp(-AxT)\n",
    "    riskFree =beta0 + beta1*((1-EAT)/AxT) + beta2*(((1-EAT)/AxT)-EAT)\n",
    "    \n",
    "    return riskFree\n",
    "    \n",
    "  "
   ]
  },
  {
   "cell_type": "code",
   "execution_count": 16,
   "metadata": {},
   "outputs": [
    {
     "data": {
      "image/png": "[encoded data removed]",
      "text/plain": [
       "<Figure size 432x288 with 1 Axes>"
      ]
     },
     "metadata": {
      "needs_background": "light"
     },
     "output_type": "display_data"
    }
   ],
   "source": [
    "TermRange = np.arange(.25,30.25,.25)\n",
    "YieldCurve = [rate(term=spot) for spot in TermRange]\n",
    "    \n",
    "plt.plot(TermRange,YieldCurve)\n",
    "plt.show()"
   ]
  },
  {
   "cell_type": "markdown",
   "metadata": {},
   "source": [
    "The yeild curve is upward sleping this account for all the theroeys we know about the curve. it solpes up becasue of the liquidity and maturity premium\n"
   ]
  },
  {
   "cell_type": "code",
   "execution_count": null,
   "metadata": {},
   "outputs": [],
   "source": []
  },
  {
   "cell_type": "markdown",
   "metadata": {
    "deletable": false,
    "editable": false
   },
   "source": [
    "<div class = \"panel panel-primary\">\n",
    "    <div class = \"panel-heading\"> \n",
    "    <span style=\"color:white\"><b>Task 9</b>\n",
    "    </div>\n",
    "    <div class = \"panel-body\"> \n",
    "    Modify the function <code>black_scholes_formula</code> to use the spot rate outputted from the function in the previous task as the appropriate risk-free rate in our Black-Scholes formula based on the term of the options contract.\n",
    "    <br><br>Note that this means <code>rf</code> will no longer be an input to the <code>black_scholes_formula</code> function. Run <code>black_scholes_formula</code> to price the following options:\n",
    "    <ul>\n",
    "        <li>A call option where the stock price is \\$30, strike is \\$35, term is 9 months, volatility is 20%, that also pays a 2.5% annual dividend, with <code>greeks</code> set to <code>True</code>.</li>\n",
    "        <li>A put option where the stock price is \\$35, strike is \\$30, term is 2 years, volatility is 20%, that also pays a 2.5% annual dividend, with <code>greeks</code> set to <code>True</code>.</li>\n",
    "    </ul>\n",
    "    <p style=\"text-align:right;\">[15pts]</p>\n",
    "    </div>\n",
    "</div>"
   ]
  },
  {
   "cell_type": "code",
   "execution_count": 17,
   "metadata": {},
   "outputs": [],
   "source": [
    "def rate(term):\n",
    "    alpha=.7143\n",
    "    beta0=2.99\n",
    "    beta1=-2.70\n",
    "    beta2=-2.12\n",
    "    #this is alpha times Term     I wanted to thin the forumla\n",
    "    AxT= alpha * term\n",
    "    #THIS is for e to the negative alpha term\n",
    "    EAT=np.exp(-AxT)\n",
    "    riskFree =beta0 + beta1*((1-EAT)/AxT) + beta2*(((1-EAT)/AxT)-EAT)\n",
    "    \n",
    "    return riskFree\n",
    "    \n",
    "\n",
    "\n",
    "\n",
    "\n",
    "def black_sholes_formula(stock_price, strike, term, rate, volatility, optionType=\"call\",div = \"0\",Greeks= True):\n",
    "    \n",
    "    volT= volatility * (term**.5)\n",
    "    d1 = ((np.log(stock_price/strike)+(rf+((volatility**2)/2)*term)))/volT\n",
    "    d2= d1 - volT\n",
    "    \n",
    "    if optionType == \"call\" and Greeks == True:\n",
    "        call = (stock_price*np.exp(-div*term) * norm.cdf(d1)) - strike * np.exp(-rf * term) * norm.cdf(d2)\n",
    "    \n",
    "        Delta = norm.cdf(d1)\n",
    "        Gamma = norm.pdf(d1)/(stock_price*volatility*np.sqrt(term))\n",
    "        Theta = (-(stock_price*norm.pdf(d1)*volatility)/(2*np.sqrt(term)-rf*strike*np.exp(-rf*term)*norm.pdf(d2)))/365\n",
    "        Vega=(stock_price*norm.pdf(d1)*(term**.5))/100\n",
    "        Rho = (strike*term*np.exp(-rf*term)*norm.cdf(d2))/100\n",
    "    \n",
    "        Greeks={\"Delta\":Delta,\"Gamma\":Gamma,\"Vega\":Vega,\"Theta\":Theta,\"Rho\":Rho}\n",
    "        return call,Greeks\n",
    "    \n",
    "    elif optionType == \"call\" and Greeks == False:\n",
    "        call = (stock_price*np.exp(-div*term) * norm.cdf(d1)) - strike * np.exp(-rf * term) * norm.cdf(d2)\n",
    "        return call\n",
    "    \n",
    "    elif optionType == \"put\" and Greeks == True:\n",
    "        put = ((strike * np.exp(-rf * term)) * norm.cdf(-d2)) - (stock_price *np.exp(-div*term)* norm.cdf(-d1))\n",
    "        Delta = norm.cdf(-d1)\n",
    "        Gamma = norm.pdf(d1)/(stock_price*volatility*np.sqrt(term))\n",
    "        Theta = (-(stock_price*norm.pdf(d1)*volatility)/(2*np.sqrt(term)-rf*strike*np.exp(-rf*term)*norm.pdf(-d2)))/365\n",
    "        Vega=(stock_price*norm.pdf(d1)*(term**.5))/100\n",
    "        Rho = (strike*term*np.exp(-rf*term)*norm.cdf(-d2))/100\n",
    "        Greeks={\"Delta\":Delta,\"Gamma\":Gamma,\"Vega\":Vega,\"Theta\":Theta,\"Rho\":Rho}\n",
    "        return put , Greeks\n",
    "        \n",
    "    else:\n",
    "        put = ((strike * np.exp(-rf * term)) * norm.cdf(-d2)) - (stock_price *np.exp(-div*term)* norm.cdf(-d1))\n",
    "        return put\n",
    "    "
   ]
  },
  {
   "cell_type": "code",
   "execution_count": 18,
   "metadata": {},
   "outputs": [
    {
     "data": {
      "text/plain": [
       "(0.4899970504863571,\n",
       " {'Delta': 0.2279388921424399,\n",
       "  'Gamma': 0.05814268124493108,\n",
       "  'Vega': 0.07849261968065695,\n",
       "  'Theta': -0.0030260553493538516,\n",
       "  'Rho': 0.046658614731807685})"
      ]
     },
     "execution_count": 18,
     "metadata": {},
     "output_type": "execute_result"
    }
   ],
   "source": [
    "black_sholes_formula(30, 35, .75, rate(.75), .2, optionType=\"call\",div = .025,Greeks= True)"
   ]
  },
  {
   "cell_type": "code",
   "execution_count": 19,
   "metadata": {
    "scrolled": true
   },
   "outputs": [
    {
     "data": {
      "text/plain": [
       "(5.770414696269356,\n",
       " {'Delta': 0.7647856336235073,\n",
       "  'Gamma': 0.031057757960765788,\n",
       "  'Vega': 0.15218301400775236,\n",
       "  'Theta': -0.0021662971526490707,\n",
       "  'Rho': 0.3938323247712848})"
      ]
     },
     "execution_count": 19,
     "metadata": {},
     "output_type": "execute_result"
    }
   ],
   "source": [
    "black_sholes_formula(35, 30, 2, rate(2), .2, optionType=\"call\",div = .025,Greeks= True)"
   ]
  },
  {
   "cell_type": "markdown",
   "metadata": {
    "deletable": false,
    "editable": false
   },
   "source": [
    "<div class = \"panel panel-primary\">\n",
    "    <div class = \"panel-heading\"> \n",
    "    <span style=\"color:white\"><b>Task 10</b>\n",
    "    </div>\n",
    "    <div class = \"panel-body\"> \n",
    "    On June 30th, 2020, the AAPL's stock price was valued at \\$364.14 and paying a dividend yield of 0.9%. On that same day, a call option on AAPL with a strike of \\$380, expiring in 6-months was trading at \\$26.\n",
    "    <br><br>Estimate the implied volatility on this call option using the bisection method with a tolerance of $0.001 on the error of the calculated Black-Scholes call option price. Set <code>option</code> to <code>call</code> and <code>greeks</code> to <code>False</code> when calling the function <code>black_scholes_formula</code>.\n",
    "    <p style=\"text-align:right;\">[15pts]</p>\n",
    "    </div>\n",
    "</div>"
   ]
  },
  {
   "cell_type": "code",
   "execution_count": 20,
   "metadata": {},
   "outputs": [],
   "source": [
    "def vega(stock_price, strike, term, rf, div, volest):\n",
    "    \n",
    "    #S: spot price\n",
    "    #K: strike price\n",
    "    #T: time to maturity\n",
    "    #r: interest rate\n",
    "    #sigma: volatility of underlying asset\n",
    "    #q: continuous dividend rate\n",
    "    \n",
    "    d1 = (np.log(stock_price / strike) + (rf + 0.5 * volest ** 2) * term) / (volest * np.sqrt(term))\n",
    "    \n",
    "    vega = 1 / np.sqrt(2 * np.pi) * strike * np.exp(-div * term) * np.exp(-(d1 ** 2) * 0.5) * np.sqrt(term)\n",
    "    \n",
    "    return vega\n",
    "\n",
    "\n",
    "\n",
    "def implied_volatility(stock_price, strike, rf, term, call_price,div , optionType=\"call\", precision=.00001, iterations=100):\n",
    "    \n",
    "        '''s (float): stock price\n",
    "        x (float): strike price\n",
    "        r (float): risk-free interest rate\n",
    "        tau (float): time to option expiration expressed in years\n",
    "        mp (float): market price of an option\n",
    "        option_type (str): specify option type: \"call\" or \"put\"  \n",
    "        precision (float): threshold below which to accept volatility estimate'''\n",
    "\n",
    "\n",
    "    # initial estimation\n",
    "        volest = 0.25\n",
    "        for i in range(0, iterations):\n",
    "    # price of an option as per Black Scholes\n",
    "            \n",
    "            bs_price = black_sholes_formula_div(stock_price, strike, term, rf, volatility,div= 0 )\n",
    "            diff = call_price - bs_price\n",
    "        # check if difference is acceptable\n",
    "            if (abs(diff) < precision):\n",
    "                return sigma\n",
    "        vega = 0\n",
    "        vega = vega(stock_price, strike, term, rf, div, volest)\n",
    "        # update sigma with addition of difference divided by derivative \n",
    "        volest = volest + (diff / vega)\n",
    "        print(sigma)"
   ]
  },
  {
   "cell_type": "code",
   "execution_count": 21,
   "metadata": {},
   "outputs": [
    {
     "data": {
      "text/plain": [
       "16.354014527510795"
      ]
     },
     "execution_count": 21,
     "metadata": {},
     "output_type": "execute_result"
    }
   ],
   "source": [
    "vega(30, 35, 2, .01, .025, .15)"
   ]
  },
  {
   "cell_type": "code",
   "execution_count": 22,
   "metadata": {},
   "outputs": [
    {
     "ename": "TypeError",
     "evalue": "'int' object is not callable",
     "output_type": "error",
     "traceback": [
      "\u001b[0;31m---------------------------------------------------------------------------\u001b[0m",
      "\u001b[0;31mTypeError\u001b[0m                                 Traceback (most recent call last)",
      "\u001b[0;32m<ipython-input-22-377c738ec6ab>\u001b[0m in \u001b[0;36m<module>\u001b[0;34m\u001b[0m\n\u001b[0;32m----> 1\u001b[0;31m \u001b[0mimplied_volatility\u001b[0m\u001b[0;34m(\u001b[0m\u001b[0;36m30\u001b[0m\u001b[0;34m,\u001b[0m\u001b[0;36m35\u001b[0m\u001b[0;34m,\u001b[0m \u001b[0;36m.01\u001b[0m\u001b[0;34m,\u001b[0m \u001b[0;36m2\u001b[0m\u001b[0;34m,\u001b[0m \u001b[0;36m2\u001b[0m\u001b[0;34m,\u001b[0m\u001b[0;36m.025\u001b[0m\u001b[0;34m,\u001b[0m \u001b[0moptionType\u001b[0m\u001b[0;34m=\u001b[0m\u001b[0;34m\"call\"\u001b[0m\u001b[0;34m,\u001b[0m \u001b[0mprecision\u001b[0m\u001b[0;34m=\u001b[0m\u001b[0;36m.00001\u001b[0m\u001b[0;34m,\u001b[0m \u001b[0miterations\u001b[0m\u001b[0;34m=\u001b[0m\u001b[0;36m100\u001b[0m\u001b[0;34m)\u001b[0m\u001b[0;34m\u001b[0m\u001b[0;34m\u001b[0m\u001b[0m\n\u001b[0m",
      "\u001b[0;32m<ipython-input-20-90941d32721f>\u001b[0m in \u001b[0;36mimplied_volatility\u001b[0;34m(stock_price, strike, rf, term, call_price, div, optionType, precision, iterations)\u001b[0m\n\u001b[1;32m     38\u001b[0m                 \u001b[0;32mreturn\u001b[0m \u001b[0msigma\u001b[0m\u001b[0;34m\u001b[0m\u001b[0;34m\u001b[0m\u001b[0m\n\u001b[1;32m     39\u001b[0m         \u001b[0mvega\u001b[0m \u001b[0;34m=\u001b[0m \u001b[0;36m0\u001b[0m\u001b[0;34m\u001b[0m\u001b[0;34m\u001b[0m\u001b[0m\n\u001b[0;32m---> 40\u001b[0;31m         \u001b[0mvega\u001b[0m \u001b[0;34m=\u001b[0m \u001b[0mvega\u001b[0m\u001b[0;34m(\u001b[0m\u001b[0mstock_price\u001b[0m\u001b[0;34m,\u001b[0m \u001b[0mstrike\u001b[0m\u001b[0;34m,\u001b[0m \u001b[0mterm\u001b[0m\u001b[0;34m,\u001b[0m \u001b[0mrf\u001b[0m\u001b[0;34m,\u001b[0m \u001b[0mdiv\u001b[0m\u001b[0;34m,\u001b[0m \u001b[0mvolest\u001b[0m\u001b[0;34m)\u001b[0m\u001b[0;34m\u001b[0m\u001b[0;34m\u001b[0m\u001b[0m\n\u001b[0m\u001b[1;32m     41\u001b[0m         \u001b[0;31m# update sigma with addition of difference divided by derivative\u001b[0m\u001b[0;34m\u001b[0m\u001b[0;34m\u001b[0m\u001b[0;34m\u001b[0m\u001b[0m\n\u001b[1;32m     42\u001b[0m         \u001b[0mvolest\u001b[0m \u001b[0;34m=\u001b[0m \u001b[0mvolest\u001b[0m \u001b[0;34m+\u001b[0m \u001b[0;34m(\u001b[0m\u001b[0mdiff\u001b[0m \u001b[0;34m/\u001b[0m \u001b[0mvega\u001b[0m\u001b[0;34m)\u001b[0m\u001b[0;34m\u001b[0m\u001b[0;34m\u001b[0m\u001b[0m\n",
      "\u001b[0;31mTypeError\u001b[0m: 'int' object is not callable"
     ]
    }
   ],
   "source": [
    "implied_volatility(30,35, .01, 2, 2,.025, optionType=\"call\", precision=.00001, iterations=100)"
   ]
  },
  {
   "cell_type": "code",
   "execution_count": null,
   "metadata": {},
   "outputs": [],
   "source": []
  }
 ],
 "metadata": {
  "kernelspec": {
   "display_name": "Python 3",
   "language": "python",
   "name": "python3"
  },
  "language_info": {
   "codemirror_mode": {
    "name": "ipython",
    "version": 3
   },
   "file_extension": ".py",
   "mimetype": "text/x-python",
   "name": "python",
   "nbconvert_exporter": "python",
   "pygments_lexer": "ipython3",
   "version": "3.7.4"
  }
 },
 "nbformat": 4,
 "nbformat_minor": 2
}
